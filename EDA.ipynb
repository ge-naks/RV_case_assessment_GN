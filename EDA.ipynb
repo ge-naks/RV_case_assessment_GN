{
 "cells": [
  {
   "cell_type": "code",
   "execution_count": null,
   "metadata": {},
   "outputs": [],
   "source": [
    "import pandas as pd\n",
    "import matplotlib.pyplot as plt\n",
    "import numpy as np\n",
    "from scipy import stats\n",
    "import seaborn as sns\n",
    "from scipy.stats import ttest_ind"
   ]
  },
  {
   "cell_type": "code",
   "execution_count": null,
   "metadata": {},
   "outputs": [],
   "source": [
    "# Load data\n",
    "path = 'data.csv'\n",
    "df = pd.read_csv(path)"
   ]
  },
  {
   "cell_type": "code",
   "execution_count": null,
   "metadata": {},
   "outputs": [],
   "source": [
    "a_approved = (df['Lender'] == 'A') & (df['Approved'] == 1)\n",
    "b_approved = (df['Lender'] == 'B') & (df['Approved'] == 1)\n",
    "c_approved = (df['Lender'] == 'C') & (df['Approved'] == 1)\n",
    "\n",
    "a_approved_count = a_approved.sum()\n",
    "b_approved_count = b_approved.sum()\n",
    "c_approved_count = c_approved.sum()\n",
    "\n",
    "a_rate = a_approved_count / (df['Lender'] == 'A').sum()\n",
    "b_rate = b_approved_count / (df['Lender'] == 'B').sum()\n",
    "c_rate = c_approved_count / (df['Lender'] == 'C').sum()\n",
    "\n",
    "print(a_rate)\n",
    "print(b_rate)\n",
    "print(c_rate)\n",
    "\n",
    "\n",
    "fig, axs = plt.subplots(1, 3, figsize=(15, 5))\n",
    "\n",
    "# Lender A\n",
    "axs[0].pie([a_rate, 1 - a_rate], labels=['Approved', 'Not Approved'], autopct='%1.1f%%', colors=['lightcoral', 'lightgrey'], startangle=90)\n",
    "axs[0].set_title('Lender A Approval Rate')\n",
    "\n",
    "# Lender B\n",
    "axs[1].pie([b_rate, 1 - b_rate], labels=['Approved', 'Not Approved'], autopct='%1.1f%%', colors=['lightskyblue', 'lightgrey'], startangle=90)\n",
    "axs[1].set_title('Lender B Approval Rate')\n",
    "\n",
    "# Lender C\n",
    "axs[2].pie([c_rate, 1 - c_rate], labels=['Approved', 'Not Approved'], autopct='%1.1f%%', colors=['lightgreen', 'lightgrey'], startangle=90)\n",
    "axs[2].set_title('Lender C Approval Rate')\n",
    "\n",
    "plt.show()\n"
   ]
  },
  {
   "cell_type": "code",
   "execution_count": null,
   "metadata": {},
   "outputs": [],
   "source": [
    "approved_count = (df['Approved'] == 1).sum()\n",
    "approved_rate = approved_count/100000"
   ]
  },
  {
   "cell_type": "code",
   "execution_count": null,
   "metadata": {},
   "outputs": [],
   "source": [
    "column_name = 'Approved'\n",
    "\n",
    "# Count the occurrences of each unique value in the specified column\n",
    "approval_counts = df[column_name].value_counts()\n",
    "\n",
    "# Plot a pie chart\n",
    "plt.figure(figsize=(6, 6))\n",
    "approval_counts.plot.pie(autopct='%1.1f%%', startangle=90, labels=None)\n",
    "plt.title('Raw Approval Rate')\n",
    "plt.ylabel('')  # Remove the default 'count' label\n",
    "\n",
    "# Show the plot\n",
    "plt.show()"
   ]
  },
  {
   "cell_type": "code",
   "execution_count": null,
   "metadata": {},
   "outputs": [],
   "source": [
    "# remove outliers\n",
    "\n",
    "# Calculate the Z-scores for each data point in the specified column\n",
    "fico_Z = stats.zscore(df['FICO_score'])\n",
    "debt_Z = stats.zscore(df['Debt_To_Income_Less_Housing'])\n",
    "\n",
    "# Set a threshold for Z-scores (e.g., 3 standard deviations)\n",
    "threshold = 3\n",
    "t = 4\n",
    "\n",
    "# Identify outliers based on the threshold\n",
    "fico_outlier = abs(fico_Z) > threshold\n",
    "debt_outlier = abs(debt_Z) > t\n",
    "\n",
    "# Remove outliers from the DataFrame\n",
    "df = df[~fico_outlier]\n",
    "df = df[~debt_outlier]"
   ]
  },
  {
   "cell_type": "code",
   "execution_count": null,
   "metadata": {},
   "outputs": [],
   "source": [
    "# remove outliers for debt/income\n",
    "\n",
    "# Calculate the IQR for the specified column\n",
    "Q1 = df['Debt_To_Income_Less_Housing'].quantile(0.25)\n",
    "Q3 = df['Debt_To_Income_Less_Housing'].quantile(0.75)\n",
    "IQR = Q3 - Q1\n",
    "\n",
    "# Set a threshold for IQR (e.g., 1.5 times the IQR)\n",
    "threshold = 1.5\n",
    "\n",
    "# Identify outliers based on the threshold\n",
    "outliers = (df['Debt_To_Income_Less_Housing'] < Q1 - threshold * IQR) | (df['Debt_To_Income_Less_Housing'] > Q3 + threshold * IQR)\n",
    "\n",
    "# Remove outliers from the DataFrame\n",
    "df_no_outliers = df[~outliers]"
   ]
  },
  {
   "cell_type": "code",
   "execution_count": null,
   "metadata": {},
   "outputs": [],
   "source": [
    "column_name = 'Approved'\n",
    "\n",
    "# Count the occurrences of each unique value in the specified column\n",
    "approval_counts = df[column_name].value_counts()\n",
    "\n",
    "# Plot a pie chart\n",
    "plt.figure(figsize=(6, 6))\n",
    "approval_counts.plot.pie(autopct='%1.1f%%', startangle=90, labels=None)\n",
    "plt.title('Approval Rate')\n",
    "plt.ylabel('')  # Remove the default 'count' label\n",
    "\n",
    "# Show the plot\n",
    "plt.show()"
   ]
  },
  {
   "cell_type": "code",
   "execution_count": null,
   "metadata": {},
   "outputs": [],
   "source": [
    "# Create a box and whisker plot for the specified column\n",
    "plt.figure(figsize=(8, 6))\n",
    "df.boxplot(column='FICO_score', showfliers=False)\n",
    "# Customize the plot (optional)\n",
    "plt.title('FICO Scores')\n",
    "plt.ylabel('Values')\n",
    "\n",
    "# Show the plot\n",
    "plt.show()"
   ]
  },
  {
   "cell_type": "code",
   "execution_count": null,
   "metadata": {},
   "outputs": [],
   "source": [
    "df = df[df['Debt_To_Income_Less_Housing'] >= 0]"
   ]
  },
  {
   "cell_type": "code",
   "execution_count": null,
   "metadata": {},
   "outputs": [],
   "source": [
    "# Create a box and whisker plot for the specified column\n",
    "plt.figure(figsize=(8, 6))\n",
    "df.boxplot(column='Debt_To_Income_Less_Housing', showfliers=False)\n",
    "\n",
    "# Customize the plot (optional)\n",
    "plt.title('Debt/Income (Less Housing)')\n",
    "plt.ylabel('Ratio')\n",
    "\n",
    "# Show the plot\n",
    "plt.show()"
   ]
  },
  {
   "cell_type": "code",
   "execution_count": null,
   "metadata": {},
   "outputs": [],
   "source": [
    "column_summary = df['Debt_To_Income_Less_Housing'].describe(percentiles=[.1,.9])\n",
    "print(column_summary)\n",
    "plt.scatter(df[\"Debt_To_Income_Less_Housing\"], df['Approved'], marker='o')\n",
    "plt.xlabel('Loan/Income (Less Housing)')\n",
    "plt.ylabel('Approval')\n",
    "plt.title('Approval Based on Loan/Income Ratio')\n",
    "plt.show()"
   ]
  },
  {
   "cell_type": "code",
   "execution_count": null,
   "metadata": {},
   "outputs": [],
   "source": [
    "# Function to round to the nearest 10s place\n",
    "def round_to_10s(value):\n",
    "    return 10 * round(value / 10)\n",
    "\n",
    "# Apply the function to the column\n",
    "df['RoundedColumn'] = df['FICO_score'].apply(round_to_10s)\n",
    "\n",
    "\n",
    "\n",
    "plt.scatter(df[\"RoundedColumn\"], df['Approved'], marker='o')\n",
    "plt.xlabel('Fico Score')\n",
    "plt.ylabel('Approval')\n",
    "plt.title('Approval Based on Loan/Income Ratio')\n"
   ]
  },
  {
   "cell_type": "code",
   "execution_count": null,
   "metadata": {},
   "outputs": [],
   "source": [
    "# determining variables that different lenders look for in applicants\n",
    "\n",
    "df_lender_A = df[df['Lender'] == 'A']\n",
    "df_lender_B = df[df['Lender'] == 'B']\n",
    "df_lender_C = df[df['Lender'] == 'C']"
   ]
  },
  {
   "cell_type": "code",
   "execution_count": null,
   "metadata": {},
   "outputs": [],
   "source": [
    "sns.boxplot(x='Approved', y='FICO_score', data=df_lender_A)\n",
    "plt.title('FICO score Distribution for Lender A')\n",
    "plt.show()"
   ]
  },
  {
   "cell_type": "code",
   "execution_count": null,
   "metadata": {},
   "outputs": [],
   "source": [
    "sns.boxplot(x='Approved', y='FICO_score', data=df_lender_B)\n",
    "plt.title('FICO score Distribution for Lender B')\n",
    "plt.show()"
   ]
  },
  {
   "cell_type": "code",
   "execution_count": null,
   "metadata": {},
   "outputs": [],
   "source": [
    "sns.boxplot(x='Approved', y='FICO_score', data=df_lender_C)\n",
    "plt.title('FICO score Distribution for Lender C')\n",
    "plt.show()"
   ]
  },
  {
   "cell_type": "code",
   "execution_count": null,
   "metadata": {},
   "outputs": [],
   "source": [
    "sns.boxplot(x='Approved', y='Debt_To_Income_Less_Housing', data=df_lender_A, showfliers=False)\n",
    "plt.title('Loan/Income (Less Housing) Lender A')\n",
    "plt.show()"
   ]
  },
  {
   "cell_type": "code",
   "execution_count": null,
   "metadata": {},
   "outputs": [],
   "source": [
    "sns.boxplot(x='Approved', y='Debt_To_Income_Less_Housing', data=df_lender_B, showfliers=False)\n",
    "plt.title('Loan/Income (Less Housing) Lender B')\n",
    "plt.show()"
   ]
  },
  {
   "cell_type": "code",
   "execution_count": null,
   "metadata": {},
   "outputs": [],
   "source": [
    "sns.boxplot(x='Approved', y='Debt_To_Income_Less_Housing', data=df_lender_C, showfliers=False)\n",
    "plt.title('Loan/Income (Less Housing) Lender C')\n",
    "plt.show()"
   ]
  },
  {
   "cell_type": "code",
   "execution_count": null,
   "metadata": {},
   "outputs": [],
   "source": [
    "approved_A = df_lender_A[df_lender_A['Approved'] == 1]['FICO_score']\n",
    "denied_A = df_lender_A[df_lender_A['Approved'] == 0]['FICO_score']\n",
    "\n",
    "t_stat, p_value = ttest_ind(approved_A, denied_A)\n",
    "print(f\"T-test for FICO_score for Lender A: T-statistic = {t_stat}, p-value = {p_value}\")\n",
    "\n",
    "approved_A = df_lender_A[df_lender_A['Approved'] == 1]['Debt_To_Income_Less_Housing']\n",
    "denied_A = df_lender_A[df_lender_A['Approved'] == 0]['Debt_To_Income_Less_Housing']\n",
    "\n",
    "t_stat, p_value = ttest_ind(approved_A, denied_A)\n",
    "print(f\"T-test for Loan/Income for Lender A: T-statistic = {t_stat}, p-value = {p_value}\")"
   ]
  },
  {
   "cell_type": "code",
   "execution_count": null,
   "metadata": {},
   "outputs": [],
   "source": [
    "approved_B = df_lender_B[df_lender_B['Approved'] == 1]['FICO_score']\n",
    "denied_B = df_lender_B[df_lender_B['Approved'] == 0]['FICO_score']\n",
    "\n",
    "t_stat, p_value = ttest_ind(approved_B, denied_B)\n",
    "print(f\"T-test for FICO_score for Lender B: T-statistic = {t_stat}, p-value = {p_value}\")\n",
    "\n",
    "\n",
    "approved_B = df_lender_B[df_lender_B['Approved'] == 1]['Debt_To_Income_Less_Housing']\n",
    "denied_B = df_lender_B[df_lender_B['Approved'] == 0]['Debt_To_Income_Less_Housing']\n",
    "\n",
    "t_stat, p_value = ttest_ind(approved_B, denied_B)\n",
    "print(f\"T-test for Loan/Income for Lender B: T-statistic = {t_stat}, p-value = {p_value}\")"
   ]
  },
  {
   "cell_type": "code",
   "execution_count": null,
   "metadata": {},
   "outputs": [],
   "source": [
    "approved_C = df_lender_C[df_lender_C['Approved'] == 1]['FICO_score']\n",
    "denied_C = df_lender_C[df_lender_C['Approved'] == 0]['FICO_score']\n",
    "\n",
    "t_stat, p_value = ttest_ind(approved_C, denied_C)\n",
    "print(f\"T-test for FICO_score for Lender C: T-statistic = {t_stat}, p-value = {p_value}\")\n",
    "\n",
    "approved_C = df_lender_C[df_lender_C['Approved'] == 1]['Debt_To_Income_Less_Housing']\n",
    "denied_C = df_lender_C[df_lender_C['Approved'] == 0]['Debt_To_Income_Less_Housing']\n",
    "\n",
    "t_stat, p_value = ttest_ind(approved_C, denied_C)\n",
    "print(f\"T-test for Loan/Income for Lender C: T-statistic = {t_stat}, p-value = {p_value}\")"
   ]
  },
  {
   "cell_type": "code",
   "execution_count": null,
   "metadata": {},
   "outputs": [],
   "source": [
    "approved_df = df[df['Approved'] == 1]\n",
    "a_fico_avg = approved_df[approved_df['Lender'] == 'A']['FICO_score'].mean()\n",
    "b_fico_avg = approved_df[approved_df['Lender'] == 'B']['FICO_score'].mean()\n",
    "c_fico_avg = approved_df[approved_df['Lender'] == 'C']['FICO_score'].mean()\n",
    "\n",
    "print(a_fico_avg)\n",
    "print(b_fico_avg)\n",
    "print(c_fico_avg)\n",
    "\n",
    "# Create a bar chart for average FICO scores\n",
    "lenders = ['Lender A', 'Lender B', 'Lender C']\n",
    "fico_avgs = [a_fico_avg, b_fico_avg, c_fico_avg]\n",
    "\n",
    "plt.bar(lenders, fico_avgs, color=['lightcoral', 'lightskyblue', 'lightgreen'])\n",
    "plt.xlabel('Lender')\n",
    "plt.ylabel('Average FICO Score')\n",
    "plt.title('Average FICO Score by Lender')\n",
    "plt.show()"
   ]
  },
  {
   "cell_type": "code",
   "execution_count": null,
   "metadata": {},
   "outputs": [],
   "source": [
    "approved_df = df[df['Approved'] == 1]\n",
    "a_D = approved_df[approved_df['Lender'] == 'A']['Debt_To_Income_Less_Housing'].mean()\n",
    "b_D = approved_df[approved_df['Lender'] == 'B']['Debt_To_Income_Less_Housing'].mean()\n",
    "c_D = approved_df[approved_df['Lender'] == 'C']['Debt_To_Income_Less_Housing'].mean()\n",
    "\n",
    "print(a_D)\n",
    "print(b_D)\n",
    "print(c_D)\n",
    "\n",
    "# Create a bar chart for average FICO scores\n",
    "lenders = ['Lender A', 'Lender B', 'Lender C']\n",
    "total_D = [a_D, b_D, c_D]\n",
    "\n",
    "plt.bar(lenders, total_D, color=['lightcoral', 'lightskyblue', 'lightgreen'])\n",
    "plt.xlabel('Lender')\n",
    "plt.ylabel('Average Debt/Income Score')\n",
    "plt.title('Average Debt/Income by Lender')\n",
    "plt.show()"
   ]
  },
  {
   "cell_type": "code",
   "execution_count": null,
   "metadata": {},
   "outputs": [],
   "source": [
    "approved_df = df[df['Approved'] == 1]\n",
    "\n",
    "# Calculate the middle 50% (IQR) for each lender\n",
    "a_fico_iqr = np.percentile(approved_df[approved_df['Lender'] == 'A']['FICO_score'], [25, 75])\n",
    "b_fico_iqr = np.percentile(approved_df[approved_df['Lender'] == 'B']['FICO_score'], [25, 75])\n",
    "c_fico_iqr = np.percentile(approved_df[approved_df['Lender'] == 'C']['FICO_score'], [25, 75])\n",
    "\n",
    "# Create boxplots to visualize the middle 50% of FICO scores\n",
    "plt.boxplot([approved_df[approved_df['Lender'] == 'A']['FICO_score'],\n",
    "             approved_df[approved_df['Lender'] == 'B']['FICO_score'],\n",
    "             approved_df[approved_df['Lender'] == 'C']['FICO_score']],\n",
    "            labels=['Lender A', 'Lender B', 'Lender C'], showfliers=False)\n",
    "\n",
    "plt.ylabel('FICO Score')\n",
    "plt.title('Middle 50% (IQR) of FICO Scores for Approved Loans by Lender')\n",
    "plt.show()\n",
    "\n",
    "# Print the calculated IQRs\n",
    "print(\"Lender A IQR:\", a_fico_iqr)\n",
    "print(\"Lender B IQR:\", b_fico_iqr)\n",
    "print(\"Lender C IQR:\", c_fico_iqr)"
   ]
  },
  {
   "cell_type": "code",
   "execution_count": null,
   "metadata": {},
   "outputs": [],
   "source": [
    "approved_df = df[df['Approved'] == 1]\n",
    "\n",
    "# Calculate the middle 50% (IQR) for each lender\n",
    "a = np.percentile(approved_df[approved_df['Lender'] == 'A']['Debt_To_Income_Less_Housing'], [25, 75])\n",
    "b = np.percentile(approved_df[approved_df['Lender'] == 'B']['Debt_To_Income_Less_Housing'], [25, 75])\n",
    "c = np.percentile(approved_df[approved_df['Lender'] == 'C']['Debt_To_Income_Less_Housing'], [25, 75])\n",
    "\n",
    "# Create boxplots to visualize the middle 50% of FICO scores\n",
    "plt.boxplot([approved_df[approved_df['Lender'] == 'A']['Debt_To_Income_Less_Housing'],\n",
    "             approved_df[approved_df['Lender'] == 'B']['Debt_To_Income_Less_Housing'],\n",
    "             approved_df[approved_df['Lender'] == 'C']['Debt_To_Income_Less_Housing']],\n",
    "            labels=['Lender A', 'Lender B', 'Lender C'], showfliers=False)\n",
    "\n",
    "plt.ylabel('FICO Score')\n",
    "plt.title('Middle 50% (IQR) of Debt/Income for Approved Loans by Lender')\n",
    "plt.show()\n",
    "\n",
    "# Print the calculated IQRs\n",
    "print(\"Lender A IQR:\", a)\n",
    "print(\"Lender B IQR:\", b)\n",
    "print(\"Lender C IQR:\", c)"
   ]
  },
  {
   "cell_type": "code",
   "execution_count": 96,
   "metadata": {},
   "outputs": [
    {
     "name": "stdout",
     "output_type": "stream",
     "text": [
      "2598650\n",
      "151300.0\n"
     ]
    }
   ],
   "source": [
    "\n",
    "total_current_bounty = df['bounty'].sum()\n",
    "print(total_current_bounty)\n",
    "\n",
    "# Lender bounty information\n",
    "bounty_map = {'A': 250, 'B': 350, 'C': 150}\n",
    "\n",
    "# Criteria for lender assignment\n",
    "lower_bands = {'A': (659, 3.29272308), 'B': (690, 3.1063145), 'C': (622, 3.99116704)}\n",
    "upper_bands = {'A': (739, 13.4820857), 'B': (771.5, 11.61271617), 'C': (724, 15.62635752)}\n",
    "\n",
    "# Function to determine lender assignment and calculate total bounty\n",
    "def determine_lender(row):\n",
    "    fico = row['FICO_score']\n",
    "    debt = row['Debt_To_Income_Less_Housing']\n",
    "\n",
    "    possible_lenders = []\n",
    "\n",
    "    for lender in bounty_map.keys():\n",
    "        fico_lower, debt_lower = lower_bands[lender]\n",
    "        fico_upper, debt_upper = upper_bands[lender]\n",
    "\n",
    "        if fico_lower <= fico <= fico_upper and debt_lower <= debt <= debt_upper:\n",
    "            possible_lenders.append((lender, bounty_map[lender]))\n",
    "\n",
    "    # If there are possible lenders, choose the one with the highest payout\n",
    "    if possible_lenders:\n",
    "        assigned_lender, assigned_bounty = max(possible_lenders, key=lambda x: x[1])\n",
    "        row['Lender'] = assigned_lender\n",
    "        row['bounty'] = assigned_bounty\n",
    "        return assigned_bounty\n",
    "    else:\n",
    "        return row['bounty']  # Return the current value of the bounty\n",
    "\n",
    "# Apply the determine_lender function to each row and calculate total bounty\n",
    "df['Assigned_Bounty'] = df[df['Approved'] == 1].apply(determine_lender, axis=1)\n",
    "\n",
    "print(df['Assigned_Bounty'].sum()-total_current_bounty)\n"
   ]
  }
 ],
 "metadata": {
  "kernelspec": {
   "display_name": "Python 3",
   "language": "python",
   "name": "python3"
  },
  "language_info": {
   "codemirror_mode": {
    "name": "ipython",
    "version": 3
   },
   "file_extension": ".py",
   "mimetype": "text/x-python",
   "name": "python",
   "nbconvert_exporter": "python",
   "pygments_lexer": "ipython3",
   "version": "3.11.2"
  }
 },
 "nbformat": 4,
 "nbformat_minor": 2
}
